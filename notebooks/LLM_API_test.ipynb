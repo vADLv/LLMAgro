{
 "cells": [
  {
   "cell_type": "code",
   "execution_count": 57,
   "id": "f65ad1d3",
   "metadata": {},
   "outputs": [],
   "source": [
    "import aiohttp\n",
    "import asyncio\n",
    "import os\n",
    "from dotenv import load_dotenv"
   ]
  },
  {
   "cell_type": "code",
   "execution_count": 58,
   "id": "8a358bcb",
   "metadata": {},
   "outputs": [
    {
     "data": {
      "text/plain": [
       "True"
      ]
     },
     "execution_count": 58,
     "metadata": {},
     "output_type": "execute_result"
    }
   ],
   "source": [
    "load_dotenv()"
   ]
  },
  {
   "cell_type": "markdown",
   "id": "ad62839a",
   "metadata": {},
   "source": [
    "### Yandex GPT\n",
    "\n",
    "https://console.yandex.cloud/folders/b1gdteprkjuca0tqp6ve/foundation-models/overview"
   ]
  },
  {
   "cell_type": "code",
   "execution_count": 59,
   "id": "db72f7ea",
   "metadata": {},
   "outputs": [],
   "source": [
    "CATALOG_ID = os.getenv(\"CATALOG_ID\") \n",
    "API_TOKEN = os.getenv(\"API_TOKEN\")\n",
    "\n",
    "async def call_yandex_gpt_async(user_prompt, system_prompt=None):\n",
    "    url = \"https://llm.api.cloud.yandex.net/foundationModels/v1/completion\"\n",
    "    headers = {\n",
    "        \"Content-Type\": \"application/json\",\n",
    "        \"Authorization\": f\"Bearer {API_TOKEN}\"\n",
    "    }\n",
    "    payload = {\n",
    "        \"modelUri\": f\"gpt://{CATALOG_ID}/yandexgpt/rc\",\n",
    "        \"completionOptions\": {\"maxTokens\": 500, \"temperature\": 0.3},\n",
    "        \"messages\": [\n",
    "            {\"role\": \"system\", \"text\": system_prompt if system_prompt else \"Ты крут\"},\n",
    "            {\"role\": \"user\", \"text\": user_prompt}\n",
    "        ]\n",
    "    }\n",
    "\n",
    "    async with aiohttp.ClientSession() as session:\n",
    "        async with session.post(url, headers=headers, json=payload) as response:\n",
    "            if response.status == 200:\n",
    "                result = await response.json()\n",
    "                print(result)\n",
    "            else:\n",
    "                print(response)"
   ]
  },
  {
   "cell_type": "code",
   "execution_count": 60,
   "id": "6b811dfa",
   "metadata": {},
   "outputs": [],
   "source": [
    "user_prompt = 'Ты круче чем ChatGPT?'"
   ]
  },
  {
   "cell_type": "code",
   "execution_count": 61,
   "id": "084cde1e",
   "metadata": {},
   "outputs": [
    {
     "name": "stdout",
     "output_type": "stream",
     "text": [
      "{'result': {'alternatives': [{'message': {'role': 'assistant', 'text': 'Я не могу сравнивать себя с другими моделями искусственного интеллекта, так как у нас разные алгоритмы, области применения и задачи. Я стараюсь быть полезным и эффективным в рамках своих возможностей и предоставленной мне информации. Моя цель — помогать людям, а не соревноваться с другими моделями.'}, 'status': 'ALTERNATIVE_STATUS_FINAL'}], 'usage': {'inputTextTokens': '23', 'completionTokens': '53', 'totalTokens': '76', 'completionTokensDetails': {'reasoningTokens': '0'}}, 'modelVersion': '09.02.2025'}}\n"
     ]
    }
   ],
   "source": [
    "await call_yandex_gpt_async(user_prompt)"
   ]
  },
  {
   "cell_type": "code",
   "execution_count": null,
   "id": "d33ef3a3",
   "metadata": {},
   "outputs": [],
   "source": []
  },
  {
   "cell_type": "markdown",
   "id": "c02a4eb2",
   "metadata": {},
   "source": [
    "### NVIDIA NIM API\n",
    "\n",
    "https://build.nvidia.com/models"
   ]
  },
  {
   "cell_type": "code",
   "execution_count": 62,
   "id": "aa54e5f7",
   "metadata": {},
   "outputs": [],
   "source": [
    "API_TOKEN = os.environ.get('NIM_API_KEY')"
   ]
  },
  {
   "cell_type": "code",
   "execution_count": 63,
   "id": "36423469",
   "metadata": {},
   "outputs": [],
   "source": [
    "async def call_nim_async(user_prompt, system_prompt=None):\n",
    "    url = \"https://integrate.api.nvidia.com/v1/chat/completions\"\n",
    "    headers = {\n",
    "        'Content-Type': 'application/json',\n",
    "        'Authorization': f'Bearer {API_TOKEN}'\n",
    "    }\n",
    "    payload = {\n",
    "        \"model\": \"meta/llama3-70b-instruct\",\n",
    "        \"max_tokens\": 2048,\n",
    "        \"stream\": False,\n",
    "        \"temperature\": 0.2,\n",
    "        \"top_p\": 0.7,\n",
    "        \"frequency_penalty\": 0,\n",
    "        \"presence_penalty\": 0,\n",
    "        \"seed\": 0,\n",
    "        \"messages\": [\n",
    "                {\n",
    "                    \"role\": \"user\",\n",
    "                    \"content\": user_prompt\n",
    "                }\n",
    "            ]\n",
    "    }\n",
    "\n",
    "\n",
    "    async with aiohttp.ClientSession() as session:\n",
    "        async with session.post(url, headers=headers, json=payload) as response:\n",
    "            if response.status == 200:\n",
    "                result = await response.json()\n",
    "                print(result)\n",
    "            else:\n",
    "                print(response)"
   ]
  },
  {
   "cell_type": "code",
   "execution_count": 66,
   "id": "9ac5610b",
   "metadata": {},
   "outputs": [],
   "source": [
    "user_prompt = 'Ты круче чем YandexGPT? ответь на русском'"
   ]
  },
  {
   "cell_type": "code",
   "execution_count": 67,
   "id": "beb4d8be",
   "metadata": {},
   "outputs": [
    {
     "name": "stdout",
     "output_type": "stream",
     "text": [
      "{'id': 'cmpl-d4f0394d064a41619d4c6c9f8a79ce5e', 'object': 'chat.completion', 'created': 1744465621, 'model': 'meta/llama3-70b-instruct', 'choices': [{'index': 0, 'message': {'role': 'assistant', 'content': 'Спасибо за комплимент! Я не могу сказать, что я круче YandexGPT, потому что мы разные модели, созданные для разных целей и с разными сильными сторонами.\\n\\nYandexGPT - это мощная языковая модель, созданная компанией Яндекс для обработки и генерации текстов на русском языке. Она была обучена на огромном количестве текстовых данных и может генерировать тексты, которые похожи на написанные человеком.\\n\\nЯ, с другой стороны, - это языковая модель, созданная Meta AI для общения с людьми на различных языках, включая русский. Моя сила заключается в способности понимать контекст и отвечать на вопросы, а также в возможности генерировать тексты на различных языках.\\n\\nВ целом, я думаю, что мы оба можем быть полезными в своих областях, и выбор между нами зависит от конкретной задачи или цели. Если вам нужно генерировать тексты на русском языке, YandexGPT может быть лучшим выбором. Если вам нужно общаться с моделью на русском языке или генерировать тексты на других языках, я могу быть более подходящим вариантом.'}, 'logprobs': None, 'finish_reason': 'stop', 'stop_reason': 128009}], 'usage': {'prompt_tokens': 26, 'total_tokens': 307, 'completion_tokens': 281}}\n"
     ]
    }
   ],
   "source": [
    "await call_nim_async(user_prompt)"
   ]
  },
  {
   "cell_type": "code",
   "execution_count": null,
   "id": "4082417a",
   "metadata": {},
   "outputs": [],
   "source": []
  }
 ],
 "metadata": {
  "kernelspec": {
   "display_name": "Python 3 (ipykernel)",
   "language": "python",
   "name": "python3"
  },
  "language_info": {
   "codemirror_mode": {
    "name": "ipython",
    "version": 3
   },
   "file_extension": ".py",
   "mimetype": "text/x-python",
   "name": "python",
   "nbconvert_exporter": "python",
   "pygments_lexer": "ipython3",
   "version": "3.10.8"
  }
 },
 "nbformat": 4,
 "nbformat_minor": 5
}
