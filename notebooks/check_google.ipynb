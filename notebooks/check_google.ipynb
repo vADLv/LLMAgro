{
 "cells": [
  {
   "cell_type": "code",
   "execution_count": 44,
   "id": "6f4c8632",
   "metadata": {},
   "outputs": [],
   "source": [
    "import os\n",
    "import sys\n",
    "import pandas as pd\n",
    "src_dir = os.path.abspath('../src')\n",
    "if src_dir not in sys.path:\n",
    "    sys.path.append(src_dir)"
   ]
  },
  {
   "cell_type": "code",
   "execution_count": 45,
   "id": "1eb0a3f1",
   "metadata": {},
   "outputs": [],
   "source": [
    "import pandas as pd\n",
    "import asyncio\n",
    "\n",
    "import gspread_asyncio\n",
    "from google.oauth2.service_account import Credentials\n",
    "from googleapiclient.discovery import build\n",
    "from googleapiclient.http import MediaFileUpload\n",
    "\n",
    "from datetime import datetime\n",
    "import pytz\n",
    "import os\n",
    "\n",
    "from utils import md_table_to_df\n",
    "\n",
    "\n",
    "# Файл для сервиcного аккаунта\n",
    "SRC_DIR = \"/Users/V/Desktop/pets/Agro/src\"\n",
    "SERVICE_ACCOUNT_FILE = f'{SRC_DIR}/progressagroproject-9dfb76fd1abc.json'\n",
    "FOLDER_ID = '1EEbdC6WDtSpy68pmNLHAeU4d7Ca01MdK'\n",
    "\n",
    "SCOPES = ['https://www.googleapis.com/auth/spreadsheets',\n",
    "          'https://www.googleapis.com/auth/drive']\n",
    "\n",
    "# Аутентификация\n",
    "def get_creds():\n",
    "    return Credentials.from_service_account_file(\n",
    "        SERVICE_ACCOUNT_FILE,\n",
    "        scopes=SCOPES\n",
    "    )\n",
    "\n",
    "drive_service = build('drive', 'v3', credentials=get_creds())\n",
    "# Выносим создание клиента в корень, чтобы ускорить функцию\n",
    "agcm = gspread_asyncio.AsyncioGspreadClientManager(get_creds)\n",
    "client = await agcm.authorize()"
   ]
  },
  {
   "cell_type": "code",
   "execution_count": 46,
   "id": "e222fe06",
   "metadata": {},
   "outputs": [
    {
     "data": {
      "text/plain": [
       "'Отчет_17.04.25'"
      ]
     },
     "execution_count": 46,
     "metadata": {},
     "output_type": "execute_result"
    }
   ],
   "source": [
    "msk_tz = pytz.timezone('Europe/Moscow')\n",
    "today_str = datetime.now(msk_tz).strftime('%d.%m.%y')\n",
    "report_name = f\"Отчет_{today_str}\"\n",
    "report_name"
   ]
  },
  {
   "cell_type": "code",
   "execution_count": 47,
   "id": "2e6a04dd",
   "metadata": {},
   "outputs": [],
   "source": [
    "spreadsheet = await client.open(report_name)"
   ]
  },
  {
   "cell_type": "code",
   "execution_count": 51,
   "id": "3846c8a6",
   "metadata": {
    "scrolled": true
   },
   "outputs": [
    {
     "name": "stderr",
     "output_type": "stream",
     "text": [
      "/usr/local/Cellar/python@3.10/3.10.8/Frameworks/Python.framework/Versions/3.10/lib/python3.10/ast.py:270: RuntimeWarning: coroutine 'apply_conditional_formatting' was never awaited\n",
      "  for item in field:\n",
      "RuntimeWarning: Enable tracemalloc to get the object allocation traceback\n"
     ]
    },
    {
     "ename": "HttpError",
     "evalue": "<HttpError 404 when requesting https://www.googleapis.com/drive/v3/files/1iikW25jXMbTIQTORm0Bemjv0Hc4vpnGhTrMWiEq-crM?fields=parents%2Ctrashed&alt=json returned \"File not found: 1iikW25jXMbTIQTORm0Bemjv0Hc4vpnGhTrMWiEq-crM.\". Details: \"[{'message': 'File not found: 1iikW25jXMbTIQTORm0Bemjv0Hc4vpnGhTrMWiEq-crM.', 'domain': 'global', 'reason': 'notFound', 'location': 'fileId', 'locationType': 'parameter'}]\">",
     "output_type": "error",
     "traceback": [
      "\u001b[0;31m---------------------------------------------------------------------------\u001b[0m",
      "\u001b[0;31mHttpError\u001b[0m                                 Traceback (most recent call last)",
      "Cell \u001b[0;32mIn [51], line 1\u001b[0m\n\u001b[0;32m----> 1\u001b[0m file_metadata \u001b[38;5;241m=\u001b[39m \u001b[38;5;28;01mawait\u001b[39;00m asyncio\u001b[38;5;241m.\u001b[39mto_thread(\n\u001b[1;32m      2\u001b[0m     \u001b[38;5;28;01mlambda\u001b[39;00m: drive_service\u001b[38;5;241m.\u001b[39mfiles()\u001b[38;5;241m.\u001b[39mget(\n\u001b[1;32m      3\u001b[0m         fileId\u001b[38;5;241m=\u001b[39mspreadsheet\u001b[38;5;241m.\u001b[39mid,\n\u001b[1;32m      4\u001b[0m \u001b[38;5;66;03m#         fileId = '1rqF6Sy2R7WX1RC71Ota_ZUA_h0xKmTMekJDNOx0uhRc',\u001b[39;00m\n\u001b[1;32m      5\u001b[0m         fields\u001b[38;5;241m=\u001b[39m\u001b[38;5;124m\"\u001b[39m\u001b[38;5;124mparents,trashed\u001b[39m\u001b[38;5;124m\"\u001b[39m\n\u001b[1;32m      6\u001b[0m     )\u001b[38;5;241m.\u001b[39mexecute()\n\u001b[1;32m      7\u001b[0m )\n",
      "File \u001b[0;32m/usr/local/Cellar/python@3.10/3.10.8/Frameworks/Python.framework/Versions/3.10/lib/python3.10/asyncio/threads.py:25\u001b[0m, in \u001b[0;36mto_thread\u001b[0;34m(func, *args, **kwargs)\u001b[0m\n\u001b[1;32m     23\u001b[0m ctx \u001b[38;5;241m=\u001b[39m contextvars\u001b[38;5;241m.\u001b[39mcopy_context()\n\u001b[1;32m     24\u001b[0m func_call \u001b[38;5;241m=\u001b[39m functools\u001b[38;5;241m.\u001b[39mpartial(ctx\u001b[38;5;241m.\u001b[39mrun, func, \u001b[38;5;241m*\u001b[39margs, \u001b[38;5;241m*\u001b[39m\u001b[38;5;241m*\u001b[39mkwargs)\n\u001b[0;32m---> 25\u001b[0m \u001b[38;5;28;01mreturn\u001b[39;00m \u001b[38;5;28;01mawait\u001b[39;00m loop\u001b[38;5;241m.\u001b[39mrun_in_executor(\u001b[38;5;28;01mNone\u001b[39;00m, func_call)\n",
      "File \u001b[0;32m/usr/local/Cellar/python@3.10/3.10.8/Frameworks/Python.framework/Versions/3.10/lib/python3.10/concurrent/futures/thread.py:58\u001b[0m, in \u001b[0;36m_WorkItem.run\u001b[0;34m(self)\u001b[0m\n\u001b[1;32m     55\u001b[0m     \u001b[38;5;28;01mreturn\u001b[39;00m\n\u001b[1;32m     57\u001b[0m \u001b[38;5;28;01mtry\u001b[39;00m:\n\u001b[0;32m---> 58\u001b[0m     result \u001b[38;5;241m=\u001b[39m \u001b[38;5;28;43mself\u001b[39;49m\u001b[38;5;241;43m.\u001b[39;49m\u001b[43mfn\u001b[49m\u001b[43m(\u001b[49m\u001b[38;5;241;43m*\u001b[39;49m\u001b[38;5;28;43mself\u001b[39;49m\u001b[38;5;241;43m.\u001b[39;49m\u001b[43margs\u001b[49m\u001b[43m,\u001b[49m\u001b[43m \u001b[49m\u001b[38;5;241;43m*\u001b[39;49m\u001b[38;5;241;43m*\u001b[39;49m\u001b[38;5;28;43mself\u001b[39;49m\u001b[38;5;241;43m.\u001b[39;49m\u001b[43mkwargs\u001b[49m\u001b[43m)\u001b[49m\n\u001b[1;32m     59\u001b[0m \u001b[38;5;28;01mexcept\u001b[39;00m \u001b[38;5;167;01mBaseException\u001b[39;00m \u001b[38;5;28;01mas\u001b[39;00m exc:\n\u001b[1;32m     60\u001b[0m     \u001b[38;5;28mself\u001b[39m\u001b[38;5;241m.\u001b[39mfuture\u001b[38;5;241m.\u001b[39mset_exception(exc)\n",
      "Cell \u001b[0;32mIn [51], line 6\u001b[0m, in \u001b[0;36m<lambda>\u001b[0;34m()\u001b[0m\n\u001b[1;32m      1\u001b[0m file_metadata \u001b[38;5;241m=\u001b[39m \u001b[38;5;28;01mawait\u001b[39;00m asyncio\u001b[38;5;241m.\u001b[39mto_thread(\n\u001b[1;32m      2\u001b[0m     \u001b[38;5;28;01mlambda\u001b[39;00m: drive_service\u001b[38;5;241m.\u001b[39mfiles()\u001b[38;5;241m.\u001b[39mget(\n\u001b[1;32m      3\u001b[0m         fileId\u001b[38;5;241m=\u001b[39mspreadsheet\u001b[38;5;241m.\u001b[39mid,\n\u001b[1;32m      4\u001b[0m \u001b[38;5;66;03m#         fileId = '1rqF6Sy2R7WX1RC71Ota_ZUA_h0xKmTMekJDNOx0uhRc',\u001b[39;00m\n\u001b[1;32m      5\u001b[0m         fields\u001b[38;5;241m=\u001b[39m\u001b[38;5;124m\"\u001b[39m\u001b[38;5;124mparents,trashed\u001b[39m\u001b[38;5;124m\"\u001b[39m\n\u001b[0;32m----> 6\u001b[0m     )\u001b[38;5;241m.\u001b[39mexecute()\n\u001b[1;32m      7\u001b[0m )\n",
      "File \u001b[0;32m/usr/local/lib/python3.10/site-packages/googleapiclient/_helpers.py:130\u001b[0m, in \u001b[0;36mpositional.<locals>.positional_decorator.<locals>.positional_wrapper\u001b[0;34m(*args, **kwargs)\u001b[0m\n\u001b[1;32m    128\u001b[0m     \u001b[38;5;28;01melif\u001b[39;00m positional_parameters_enforcement \u001b[38;5;241m==\u001b[39m POSITIONAL_WARNING:\n\u001b[1;32m    129\u001b[0m         logger\u001b[38;5;241m.\u001b[39mwarning(message)\n\u001b[0;32m--> 130\u001b[0m \u001b[38;5;28;01mreturn\u001b[39;00m \u001b[43mwrapped\u001b[49m\u001b[43m(\u001b[49m\u001b[38;5;241;43m*\u001b[39;49m\u001b[43margs\u001b[49m\u001b[43m,\u001b[49m\u001b[43m \u001b[49m\u001b[38;5;241;43m*\u001b[39;49m\u001b[38;5;241;43m*\u001b[39;49m\u001b[43mkwargs\u001b[49m\u001b[43m)\u001b[49m\n",
      "File \u001b[0;32m/usr/local/lib/python3.10/site-packages/googleapiclient/http.py:938\u001b[0m, in \u001b[0;36mHttpRequest.execute\u001b[0;34m(self, http, num_retries)\u001b[0m\n\u001b[1;32m    936\u001b[0m     callback(resp)\n\u001b[1;32m    937\u001b[0m \u001b[38;5;28;01mif\u001b[39;00m resp\u001b[38;5;241m.\u001b[39mstatus \u001b[38;5;241m>\u001b[39m\u001b[38;5;241m=\u001b[39m \u001b[38;5;241m300\u001b[39m:\n\u001b[0;32m--> 938\u001b[0m     \u001b[38;5;28;01mraise\u001b[39;00m HttpError(resp, content, uri\u001b[38;5;241m=\u001b[39m\u001b[38;5;28mself\u001b[39m\u001b[38;5;241m.\u001b[39muri)\n\u001b[1;32m    939\u001b[0m \u001b[38;5;28;01mreturn\u001b[39;00m \u001b[38;5;28mself\u001b[39m\u001b[38;5;241m.\u001b[39mpostproc(resp, content)\n",
      "\u001b[0;31mHttpError\u001b[0m: <HttpError 404 when requesting https://www.googleapis.com/drive/v3/files/1iikW25jXMbTIQTORm0Bemjv0Hc4vpnGhTrMWiEq-crM?fields=parents%2Ctrashed&alt=json returned \"File not found: 1iikW25jXMbTIQTORm0Bemjv0Hc4vpnGhTrMWiEq-crM.\". Details: \"[{'message': 'File not found: 1iikW25jXMbTIQTORm0Bemjv0Hc4vpnGhTrMWiEq-crM.', 'domain': 'global', 'reason': 'notFound', 'location': 'fileId', 'locationType': 'parameter'}]\">"
     ]
    }
   ],
   "source": [
    "file_metadata = await asyncio.to_thread(\n",
    "    lambda: drive_service.files().get(\n",
    "        fileId=spreadsheet.id,\n",
    "#         fileId = '1rqF6Sy2R7WX1RC71Ota_ZUA_h0xKmTMekJDNOx0uhRc',\n",
    "        fields=\"parents,trashed\"\n",
    "    ).execute()\n",
    ")"
   ]
  },
  {
   "cell_type": "code",
   "execution_count": 49,
   "id": "b4ea29fd",
   "metadata": {},
   "outputs": [
    {
     "data": {
      "text/plain": [
       "{'trashed': False, 'parents': ['1EEbdC6WDtSpy68pmNLHAeU4d7Ca01MdK']}"
      ]
     },
     "execution_count": 49,
     "metadata": {},
     "output_type": "execute_result"
    }
   ],
   "source": [
    "file_metadata"
   ]
  },
  {
   "cell_type": "code",
   "execution_count": 20,
   "id": "dbcf4f17",
   "metadata": {},
   "outputs": [],
   "source": [
    "if FOLDER_ID not in file_metadata['parents']:\n",
    "    await asyncio.to_thread(\n",
    "        lambda: drive_service.files().delete(fileId=spreadsheet.id).execute()\n",
    "    )"
   ]
  },
  {
   "cell_type": "code",
   "execution_count": 50,
   "id": "d71b1734",
   "metadata": {},
   "outputs": [
    {
     "data": {
      "text/plain": [
       "''"
      ]
     },
     "execution_count": 50,
     "metadata": {},
     "output_type": "execute_result"
    }
   ],
   "source": [
    "# await asyncio.to_thread(\n",
    "#         lambda: drive_service.files().delete(fileId=spreadsheet.id).execute()\n",
    "#     )"
   ]
  },
  {
   "cell_type": "code",
   "execution_count": null,
   "id": "a6a4105d",
   "metadata": {},
   "outputs": [],
   "source": []
  },
  {
   "cell_type": "code",
   "execution_count": 27,
   "id": "0c13f7b2",
   "metadata": {},
   "outputs": [],
   "source": [
    "spreadsheet = await client.open(report_name)\n",
    "worksheet = await spreadsheet.get_worksheet(0)"
   ]
  },
  {
   "cell_type": "code",
   "execution_count": 29,
   "id": "7a11e76e",
   "metadata": {},
   "outputs": [
    {
     "ename": "TypeError",
     "evalue": "AsyncioGspreadWorksheet.findall() missing 1 required positional argument: 'query'",
     "output_type": "error",
     "traceback": [
      "\u001b[0;31m---------------------------------------------------------------------------\u001b[0m",
      "\u001b[0;31mTypeError\u001b[0m                                 Traceback (most recent call last)",
      "Cell \u001b[0;32mIn [29], line 1\u001b[0m\n\u001b[0;32m----> 1\u001b[0m \u001b[43mworksheet\u001b[49m\u001b[38;5;241;43m.\u001b[39;49m\u001b[43mfindall\u001b[49m\u001b[43m(\u001b[49m\u001b[43m)\u001b[49m\n",
      "\u001b[0;31mTypeError\u001b[0m: AsyncioGspreadWorksheet.findall() missing 1 required positional argument: 'query'"
     ]
    }
   ],
   "source": []
  },
  {
   "cell_type": "code",
   "execution_count": 42,
   "id": "7af73de1",
   "metadata": {},
   "outputs": [],
   "source": [
    "from gspread_formatting import *\n",
    "async def apply_conditional_formatting():\n",
    "    client = await agcm.authorize()\n",
    "    spreadsheet = await client.open(report_name)\n",
    "    worksheet = await spreadsheet.get_worksheet(0)\n",
    "    # Формируем правило условного форматирования\n",
    "    request = {\n",
    "        \"requests\": [{\n",
    "            \"addConditionalFormatRule\": {\n",
    "                \"rule\": {\n",
    "                    \"ranges\": [{\n",
    "                        \"sheetId\": worksheet.id,\n",
    "                        \"startRowIndex\": 1,  # Строки 2-1000\n",
    "                        \"endRowIndex\": 1000,\n",
    "                        \"startColumnIndex\": 0,  # Колонки A-Z\n",
    "                        \"endColumnIndex\": 26\n",
    "                    }],\n",
    "                    \"booleanRule\": {\n",
    "                        \"condition\": {\n",
    "                            \"type\": \"CUSTOM_FORMULA\",\n",
    "                            \"values\": [{\"userEnteredValue\": \"=AND($I2<5, $I2<>\\\"\\\")\"}]\n",
    "                        },\n",
    "                        \"format\": {\n",
    "                            \"backgroundColor\": {\"red\": 0.99, \"green\": 0.98, \"blue\": 0.8}  # Желтый\n",
    "                        }\n",
    "                    }\n",
    "                },\n",
    "                \"index\": 0\n",
    "            }\n",
    "        }]\n",
    "    }\n",
    "    \n",
    "    await spreadsheet.batch_update(request)"
   ]
  },
  {
   "cell_type": "code",
   "execution_count": 43,
   "id": "cdfff80f",
   "metadata": {},
   "outputs": [],
   "source": [
    "await apply_conditional_formatting()"
   ]
  },
  {
   "cell_type": "code",
   "execution_count": null,
   "id": "8b46a5bd",
   "metadata": {},
   "outputs": [],
   "source": []
  }
 ],
 "metadata": {
  "kernelspec": {
   "display_name": "Python 3 (ipykernel)",
   "language": "python",
   "name": "python3"
  },
  "language_info": {
   "codemirror_mode": {
    "name": "ipython",
    "version": 3
   },
   "file_extension": ".py",
   "mimetype": "text/x-python",
   "name": "python",
   "nbconvert_exporter": "python",
   "pygments_lexer": "ipython3",
   "version": "3.10.8"
  }
 },
 "nbformat": 4,
 "nbformat_minor": 5
}
