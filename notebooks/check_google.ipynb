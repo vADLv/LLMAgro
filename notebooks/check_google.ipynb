{
 "cells": [
  {
   "cell_type": "code",
   "execution_count": 1,
   "id": "6f4c8632",
   "metadata": {},
   "outputs": [],
   "source": [
    "import os\n",
    "import sys\n",
    "import pandas as pd\n",
    "src_dir = os.path.abspath('../src')\n",
    "if src_dir not in sys.path:\n",
    "    sys.path.append(src_dir)"
   ]
  },
  {
   "cell_type": "code",
   "execution_count": 2,
   "id": "1eb0a3f1",
   "metadata": {},
   "outputs": [],
   "source": [
    "import pandas as pd\n",
    "import asyncio\n",
    "\n",
    "import gspread_asyncio\n",
    "from google.oauth2.service_account import Credentials\n",
    "from googleapiclient.discovery import build\n",
    "from googleapiclient.http import MediaFileUpload\n",
    "\n",
    "from datetime import datetime\n",
    "import pytz\n",
    "import os\n",
    "\n",
    "from utils import md_table_to_df\n",
    "\n",
    "\n",
    "# Файл для сервиcного аккаунта\n",
    "SRC_DIR = \"/Users/V/Desktop/pets/Agro/src\"\n",
    "SERVICE_ACCOUNT_FILE = f'{SRC_DIR}/progressagroproject-9dfb76fd1abc.json'\n",
    "FOLDER_ID = '1EEbdC6WDtSpy68pmNLHAeU4d7Ca01MdK'\n",
    "\n",
    "SCOPES = ['https://www.googleapis.com/auth/spreadsheets',\n",
    "          'https://www.googleapis.com/auth/drive']\n",
    "\n",
    "# Аутентификация\n",
    "def get_creds():\n",
    "    return Credentials.from_service_account_file(\n",
    "        SERVICE_ACCOUNT_FILE,\n",
    "        scopes=SCOPES\n",
    "    )\n",
    "\n",
    "drive_service = build('drive', 'v3', credentials=get_creds())\n",
    "# Выносим создание клиента в корень, чтобы ускорить функцию\n",
    "agcm = gspread_asyncio.AsyncioGspreadClientManager(get_creds)\n",
    "client = await agcm.authorize()"
   ]
  },
  {
   "cell_type": "code",
   "execution_count": 3,
   "id": "e222fe06",
   "metadata": {},
   "outputs": [
    {
     "data": {
      "text/plain": [
       "'Отчет_17.04.25'"
      ]
     },
     "execution_count": 3,
     "metadata": {},
     "output_type": "execute_result"
    }
   ],
   "source": [
    "msk_tz = pytz.timezone('Europe/Moscow')\n",
    "today_str = datetime.now(msk_tz).strftime('%d.%m.%y')\n",
    "report_name = f\"Отчет_{today_str}\"\n",
    "report_name"
   ]
  },
  {
   "cell_type": "code",
   "execution_count": 4,
   "id": "2e6a04dd",
   "metadata": {},
   "outputs": [],
   "source": [
    "spreadsheet = await client.open(report_name)"
   ]
  },
  {
   "cell_type": "code",
   "execution_count": 7,
   "id": "3846c8a6",
   "metadata": {},
   "outputs": [],
   "source": [
    "file_metadata = await asyncio.to_thread(\n",
    "    lambda: drive_service.files().get(\n",
    "        fileId=spreadsheet.id,\n",
    "#         fileId = '1rqF6Sy2R7WX1RC71Ota_ZUA_h0xKmTMekJDNOx0uhRc',\n",
    "        fields=\"parents,trashed\"\n",
    "    ).execute()\n",
    ")"
   ]
  },
  {
   "cell_type": "code",
   "execution_count": 8,
   "id": "b4ea29fd",
   "metadata": {},
   "outputs": [
    {
     "data": {
      "text/plain": [
       "{'trashed': False, 'parents': ['0AIDRnhNHOzW5Uk9PVA']}"
      ]
     },
     "execution_count": 8,
     "metadata": {},
     "output_type": "execute_result"
    }
   ],
   "source": [
    "file_metadata"
   ]
  },
  {
   "cell_type": "code",
   "execution_count": 21,
   "id": "dbcf4f17",
   "metadata": {},
   "outputs": [],
   "source": [
    "if FOLDER_ID not in file_metadata['parents']:\n",
    "    await asyncio.to_thread(\n",
    "        lambda: drive_service.files().delete(fileId=spreadsheet.id).execute()\n",
    "    )"
   ]
  },
  {
   "cell_type": "code",
   "execution_count": null,
   "id": "7af73de1",
   "metadata": {},
   "outputs": [],
   "source": []
  },
  {
   "cell_type": "code",
   "execution_count": null,
   "id": "cdfff80f",
   "metadata": {},
   "outputs": [],
   "source": []
  }
 ],
 "metadata": {
  "kernelspec": {
   "display_name": "Python 3 (ipykernel)",
   "language": "python",
   "name": "python3"
  },
  "language_info": {
   "codemirror_mode": {
    "name": "ipython",
    "version": 3
   },
   "file_extension": ".py",
   "mimetype": "text/x-python",
   "name": "python",
   "nbconvert_exporter": "python",
   "pygments_lexer": "ipython3",
   "version": "3.10.8"
  }
 },
 "nbformat": 4,
 "nbformat_minor": 5
}
